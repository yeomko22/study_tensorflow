{
 "cells": [
  {
   "cell_type": "code",
   "execution_count": 13,
   "metadata": {},
   "outputs": [
    {
     "name": "stdout",
     "output_type": "stream",
     "text": [
      "['/home/hjkim/anaconda3/envs/tensorflow-2.0/lib/python36.zip', '/home/hjkim/anaconda3/envs/tensorflow-2.0/lib/python3.6', '/home/hjkim/anaconda3/envs/tensorflow-2.0/lib/python3.6/lib-dynload', '', '/home/hjkim/anaconda3/envs/tensorflow-2.0/lib/python3.6/site-packages', '/home/hjkim/anaconda3/envs/tensorflow-2.0/lib/python3.6/site-packages/IPython/extensions', '/home/hjkim/.ipython']\n"
     ]
    },
    {
     "data": {
      "text/plain": [
       "'2.0.0'"
      ]
     },
     "execution_count": 13,
     "metadata": {},
     "output_type": "execute_result"
    }
   ],
   "source": [
    "import tensorflow as tf\n",
    "from tensorflow import keras\n",
    "import numpy as np\n",
    "import matplotlib\n",
    "import sys\n",
    "\n",
    "print(sys.path)\n",
    "tf.__version__"
   ]
  },
  {
   "cell_type": "code",
   "execution_count": 5,
   "metadata": {},
   "outputs": [],
   "source": [
    "fashion_mnist = tf.keras.datasets.fashion_mnist\n",
    "(train_images, train_labels), (test_images, test_labels) = fashion_mnist.load_data()"
   ]
  },
  {
   "cell_type": "code",
   "execution_count": 16,
   "metadata": {},
   "outputs": [],
   "source": [
    "train_images = train_images / 255.0\n",
    "test_images = test_images / 255.0"
   ]
  },
  {
   "cell_type": "code",
   "execution_count": 70,
   "metadata": {},
   "outputs": [],
   "source": [
    "def train():\n",
    "    class MyCallback(tf.keras.callbacks.Callback):\n",
    "        def on_epoch_end(self, epoch, logs={}):\n",
    "            print(logs)\n",
    "            if(logs.get('sparse_categorical_accuracy')>0.66):\n",
    "                print(\"\\naccuracy high enough\")\n",
    "                self.model.stop_training = True\n",
    "    callbacks = MyCallback()\n",
    "    model = keras.Sequential([\n",
    "        keras.layers.Flatten(),\n",
    "        keras.layers.Dense(512, activation=tf.nn.relu),\n",
    "        keras.layers.Dense(256, activation=tf.nn.relu),\n",
    "        keras.layers.Dense(10, activation=tf.nn.softmax)\n",
    "    ])\n",
    "    model.compile(optimizer='adam', loss='sparse_categorical_crossentropy', metrics=['sparse_categorical_accuracy'])\n",
    "    model.fit(train_images, train_labels, epochs=5, callbacks=[callbacks])"
   ]
  },
  {
   "cell_type": "code",
   "execution_count": 71,
   "metadata": {},
   "outputs": [
    {
     "name": "stdout",
     "output_type": "stream",
     "text": [
      "Train on 60000 samples\n",
      "Epoch 1/5\n",
      "59840/60000 [============================>.] - ETA: 0s - loss: 0.4674 - sparse_categorical_accuracy: 0.8315{'loss': 0.46706432896057765, 'sparse_categorical_accuracy': 0.83165}\n",
      "\n",
      "accuracy high enough\n",
      "60000/60000 [==============================] - 7s 123us/sample - loss: 0.4671 - sparse_categorical_accuracy: 0.8317\n"
     ]
    }
   ],
   "source": [
    "train()"
   ]
  }
 ],
 "metadata": {
  "kernelspec": {
   "display_name": "tensorflow-2.0",
   "language": "python",
   "name": "tensorflow-2.0"
  },
  "language_info": {
   "codemirror_mode": {
    "name": "ipython",
    "version": 3
   },
   "file_extension": ".py",
   "mimetype": "text/x-python",
   "name": "python",
   "nbconvert_exporter": "python",
   "pygments_lexer": "ipython3",
   "version": "3.6.10"
  }
 },
 "nbformat": 4,
 "nbformat_minor": 4
}
